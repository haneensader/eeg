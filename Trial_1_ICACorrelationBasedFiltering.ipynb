{
 "cells": [
  {
   "cell_type": "code",
   "execution_count": 1,
   "metadata": {
    "collapsed": false
   },
   "outputs": [],
   "source": [
    "from scipy.stats import pearsonr\n",
    "import numpy as np\n",
    "from sklearn.decomposition import FastICA\n",
    "import matplotlib.pyplot as plt\n",
    "from time import time\n",
    "\n",
    "def clean_eeg(recordings_matrix, channel_map, raw_eeg):\n",
    "\t#--------------------\n",
    "\t# This method takes an eeg_matrix of N_channels x T_timestamps\n",
    "\t# along with a channel_map vector of N_channels X 1\n",
    "\t# and returns a clean eeg_matrix of N_channels x T_timestamps\n",
    "\t# while using channels mapped to EEG(0), EOG (1), ECG (2) and EMG (3)\n",
    "\t# as noise sources\n",
    "\teeg_idnt = 0\n",
    "\tnoise_types_num = max(channel_map)\n",
    "\tnoise_idnts = range(1, noise_types_num + 1)\n",
    "\tif len(noise_idnts) != noise_types_num:\n",
    "\t\tprint \"Bug Found\"\n",
    "\t\treturn -1\n",
    "\tN_channels, T_timestamps = recordings_matrix.shape\n",
    "\tprint \"-I- Number of channels found is\", N_channels, \"with\", T_timestamps, \"timestamps\"\n",
    "\n",
    "\t## filter out non eeg channels\n",
    "\teeg_channels = [i for i in range(len(channel_map)) if channel_map[i] == 0]\n",
    "\teeg_matrix = np.zeros([len(eeg_channels), T_timestamps])\n",
    "\tcnt = 0\n",
    "\tfor i in eeg_channels:\n",
    "\t\teeg_matrix[cnt, :] = recordings_matrix[i, :]\n",
    "\t\tcnt = cnt + 1\n",
    "\n",
    "\t## ica: N_Components x T_timestamps\t\n",
    "\tn_components = eeg_matrix.shape[0]\n",
    "\tX = eeg_matrix.transpose()\n",
    "\tica = FastICA(n_components)\n",
    "\tt0 = int(time() * 1000)\t\n",
    "\teeg_ica_components = ica.fit_transform(X)\n",
    "\tdelta = int(time() * 1000) - t0\n",
    "\tprint \"-T- It took\", delta, \"ms to calculate ICA components\"\n",
    "\teeg_ica_components = eeg_ica_components.transpose()\n",
    "\n",
    "\t## correlation\n",
    "\tfor noise_idnt in noise_idnts:\n",
    "\t\tnoise_channels = [i for i in range(len(channel_map)) if channel_map[i] == noise_idnt]\n",
    "\t\tfor noise_channel in noise_channels:\n",
    "\t\t\tt0 = int(time() * 1000)\n",
    "\t\t\tcorr_vec = calculate_correlation(eeg_ica_components, recordings_matrix[noise_channel,:])\n",
    "\t\t\tdelta = int(time() * 1000) - t0\n",
    "\t\t\tprint \"-T- It took\", delta, \"ms to calculate CORRELATION of noise with all eeg channels\"\n",
    "\t\t\teeg_component_idx = np.argmax(abs(corr_vec))\n",
    "\t\t\teeg_component_idx_min = np.argmin(abs(corr_vec))\n",
    "\t\t\tprint \"-I- Noise component\", noise_idnt, \"of channel\", noise_channel, \"is highly correlated with\", eeg_component_idx, \"with\", corr_vec[eeg_component_idx]\n",
    "\t\t\tsorted_corr_vector_indices =  np.argsort(corr_vec, 0)\n",
    "\n",
    "\t\t\t## Debug: Compare highly/barley correlated signals with ecg sensor\n",
    "\t\t\tplt.figure(1)\n",
    "\t\t\tplt.subplot(411)\n",
    "\t\t\tplt.plot(range(T_timestamps), eeg_ica_components[eeg_component_idx,:])\n",
    "\t\t\tplt.xlabel('Times (ms)')\n",
    "\t\t\tplt.ylabel('EEG Max-1')\n",
    "\n",
    "\t\t\tplt.subplot(412)\n",
    "\t\t\tplt.plot(range(T_timestamps), eeg_ica_components[sorted_corr_vector_indices[-2,0],:])\n",
    "\t\t\tplt.xlabel('Times (ms)')\n",
    "\t\t\tplt.ylabel('EEG Max-2')\n",
    "\n",
    "\t\t\tplt.subplot(413)\n",
    "\t\t\tplt.plot(range(T_timestamps), eeg_ica_components[sorted_corr_vector_indices[-3,0],:])\n",
    "\t\t\tplt.xlabel('Times (ms)')\n",
    "\t\t\tplt.ylabel('EEG Max-3')\n",
    "\n",
    "\t\t\tplt.subplot(414)\n",
    "\t\t\tplt.plot(range(T_timestamps), recordings_matrix[noise_channel,:])\n",
    "\t\t\tplt.xlabel('Times (ms)')\n",
    "\t\t\tplt.ylabel('ECG')\n",
    "\t\t\tplt.show()\n",
    "            \n",
    "            ## Debug: Plot spatial\n",
    "            \n",
    "\t\t\t#ica_components = np.zeros(eeg_ica_components.shape)\n",
    "\t\t\t#ica_components[eeg_component_idx,:] = eeg_ica_components[eeg_component_idx,:]\n",
    "\t\t\t#eeg_reconstructed = ica.inverse_transform(ica_components.transpose())\n",
    "\n",
    "\t\t\t## \"Throw away\" ica component\n",
    "\t\t\teeg_ica_components[eeg_component_idx,:] = np.zeros(eeg_ica_components[eeg_component_idx,:].shape)\n",
    "    \n",
    "    ## Reconstruct clean EEG signal\n",
    "\tch_types = ['eeg']*len(raw_eeg.info['ch_names'])\n",
    "\tdata = ica.inverse_transform(eeg_ica_components.transpose()).transpose()\n",
    "\tinfo = mne.create_info(ch_names=raw_eeg.info['ch_names'], sfreq=raw_eeg.info['sfreq'], ch_types=ch_types)\n",
    "\traw_eeg = mne.io.RawArray(data, info)\n",
    "    \n",
    "\treturn raw_eeg"
   ]
  },
  {
   "cell_type": "code",
   "execution_count": 2,
   "metadata": {
    "collapsed": false
   },
   "outputs": [],
   "source": [
    "def calculate_correlation(eeg_matrix, channel_vector):\n",
    "\tcorr_vec = np.zeros([eeg_matrix.shape[0], 1])\n",
    "\tfor eeg_component_idx in range(eeg_matrix.shape[0]):\n",
    "\t\teeg_component = eeg_matrix[eeg_component_idx,:]\n",
    "\t\tr, pvalue = pearsonr(eeg_component, channel_vector)\n",
    "\t\tr = abs(r * (1 - pvalue))\n",
    "\t\tcorr_vec[eeg_component_idx] = r\n",
    "\treturn corr_vec"
   ]
  },
  {
   "cell_type": "code",
   "execution_count": 3,
   "metadata": {
    "collapsed": false
   },
   "outputs": [
    {
     "name": "stdout",
     "output_type": "stream",
     "text": [
      "Opening raw data file C:\\Users\\HaneenSader\\mne_data\\MNE-sample-data\\MEG\\sample\\sample_audvis_raw.fif...\n",
      "    Read a total of 3 projection items:\n",
      "        PCA-v1 (1 x 102)  idle\n",
      "        PCA-v2 (1 x 102)  idle\n",
      "        PCA-v3 (1 x 102)  idle\n",
      "    Range : 25800 ... 192599 =     42.956 ...   320.670 secs\n",
      "Ready.\n",
      "Current compensation grade : 0\n",
      "add_eeg_ref defaults to True in 0.13, will default to False in 0.14, and will be removed in 0.15. We recommend to use add_eeg_ref=False and set_eeg_reference() instead.\n",
      "Adding average EEG reference projection.\n",
      "1 projection items deactivated\n",
      "Reading 0 ... 166799  =      0.000 ...   277.714 secs...\n"
     ]
    },
    {
     "name": "stderr",
     "output_type": "stream",
     "text": [
      "<ipython-input-3-ac03271afa17>:10: DeprecationWarning: add_eeg_ref defaults to True in 0.13, will default to False in 0.14, and will be removed in 0.15. We recommend to use add_eeg_ref=False and set_eeg_reference() instead.\n",
      "  raw = io.read_raw_fif(raw_fname)\n"
     ]
    },
    {
     "name": "stdout",
     "output_type": "stream",
     "text": [
      "-I- Found 20 EEG channels\n"
     ]
    }
   ],
   "source": [
    "import mne\n",
    "from mne import io\n",
    "from mne.datasets import sample\n",
    "import pickle\n",
    "import os\n",
    "\n",
    "data_path = sample.data_path()\n",
    "raw_fname = data_path + '/MEG/sample/sample_audvis_raw.fif'\n",
    "# Setup for reading the raw data\n",
    "raw = io.read_raw_fif(raw_fname)\n",
    "raw.load_data()\n",
    "raw_eeg = raw.copy()\n",
    "\n",
    "## EEG Channels List - load or create\n",
    "eeg_list_f = 'eeg_channels.list'\n",
    "if ( os.path.exists(eeg_list_f) ):\n",
    "    with open (eeg_list_f, 'rb') as fp:\n",
    "        eeg_channels = pickle.load(fp)\n",
    "else:\n",
    "    fig, eeg_channels = raw_eeg.plot_sensors(kind='select', ch_type='eeg', block=True)\t\n",
    "    print \"-I- You have chosen the following EEG channels:\", eeg_channels\n",
    "\n",
    "    with open(eeg_list_f, 'wb') as fp:\n",
    "        pickle.dump(eeg_channels, fp)\n",
    "\n",
    "## channels\n",
    "raw_eeg = raw_eeg.pick_channels(eeg_channels)\n",
    "C = len(eeg_channels)\n",
    "print \"-I- Found\",C,\"EEG channels\""
   ]
  },
  {
   "cell_type": "code",
   "execution_count": 4,
   "metadata": {
    "collapsed": false
   },
   "outputs": [
    {
     "name": "stdout",
     "output_type": "stream",
     "text": [
      "-I- For ICA to succeed a window of 8000 samples was chosen\n"
     ]
    }
   ],
   "source": [
    "## time window\n",
    "T = 20 * C * C #20000\n",
    "print \"-I- For ICA to succeed a window of\",T,\"samples was chosen\"\n",
    "raw = raw.crop(tmin=0, tmax=raw[0][1][T-1])\n",
    "raw_eeg = raw_eeg.crop(tmin=0, tmax=raw_eeg[0][1][T-1])"
   ]
  },
  {
   "cell_type": "code",
   "execution_count": 5,
   "metadata": {
    "collapsed": false
   },
   "outputs": [
    {
     "name": "stdout",
     "output_type": "stream",
     "text": [
      "Band-pass filtering from 1 - 60 Hz\n",
      "filter_length (8192) is longer than the signal (8000), distortion is likely. Reduce filter length or filter a longer signal.\n",
      "Multiple deprecated filter parameters were used:\n",
      "phase in 0.13 is \"zero-double\" but will change to \"zero\" in 0.14\n",
      "fir_window in 0.13 is \"hann\" but will change to \"hamming\" in 0.14\n",
      "lower transition bandwidth in 0.13 is 0.5 Hz but will change to \"auto\" in 0.14\n",
      "upper transition bandwidth in 0.13 is 0.5 Hz but will change to \"auto\" in 0.14\n",
      "The default filter length in 0.13 is \"10s\" but will change to \"auto\" in 0.14\n"
     ]
    },
    {
     "name": "stderr",
     "output_type": "stream",
     "text": [
      "<ipython-input-5-f9ffb6855277>:5: RuntimeWarning: filter_length (8192) is longer than the signal (8000), distortion is likely. Reduce filter length or filter a longer signal.\n",
      "  raw_eeg = raw_eeg.filter(lf, hf)\n",
      "<ipython-input-5-f9ffb6855277>:5: DeprecationWarning: Multiple deprecated filter parameters were used:\n",
      "phase in 0.13 is \"zero-double\" but will change to \"zero\" in 0.14\n",
      "fir_window in 0.13 is \"hann\" but will change to \"hamming\" in 0.14\n",
      "lower transition bandwidth in 0.13 is 0.5 Hz but will change to \"auto\" in 0.14\n",
      "upper transition bandwidth in 0.13 is 0.5 Hz but will change to \"auto\" in 0.14\n",
      "The default filter length in 0.13 is \"10s\" but will change to \"auto\" in 0.14\n",
      "  raw_eeg = raw_eeg.filter(lf, hf)\n"
     ]
    },
    {
     "name": "stdout",
     "output_type": "stream",
     "text": [
      "-T- It took 1096 ms to FILTER eeg channels\n"
     ]
    }
   ],
   "source": [
    "## EEG Frequency filter: keep only 1Hz-60Hz\n",
    "lf = 1 #hz\n",
    "hf = 60 #hz\n",
    "t0 = int(time() * 1000)\n",
    "raw_eeg = raw_eeg.filter(lf, hf)\n",
    "delta = int(time() * 1000) - t0\n",
    "print \"-T- It took\", delta, \"ms to FILTER eeg channels\"\n",
    "eeg_recordings_matrix = raw_eeg[:][0]"
   ]
  },
  {
   "cell_type": "code",
   "execution_count": 6,
   "metadata": {
    "collapsed": false
   },
   "outputs": [
    {
     "name": "stdout",
     "output_type": "stream",
     "text": [
      "-I- Number of ECG channels found: 1\n",
      "-I- The ECG channels found: [170]\n"
     ]
    }
   ],
   "source": [
    "## ECG Channel\n",
    "picks = mne.pick_types(raw.info, meg=False, eeg=False, stim=False, eog=False, include=['MEG 1531'], exclude='bads')\n",
    "print \"-I- Number of ECG channels found:\", len(picks)\n",
    "print \"-I- The ECG channels found:\", picks\n",
    "ecg_recordings_matrix = raw[picks][0]"
   ]
  },
  {
   "cell_type": "code",
   "execution_count": 7,
   "metadata": {
    "collapsed": false
   },
   "outputs": [
    {
     "name": "stdout",
     "output_type": "stream",
     "text": [
      "-I- Number of EEG channels found: 20\n"
     ]
    }
   ],
   "source": [
    "## Prepare data\n",
    "EEG_channels_count = eeg_recordings_matrix.shape[0]\n",
    "print \"-I- Number of EEG channels found:\", EEG_channels_count\n",
    "ECG_channels_count = ecg_recordings_matrix.shape[0]\n",
    "T_timestamps = eeg_recordings_matrix.shape[1]\n",
    "# - data\n",
    "recordings_matrix = np.zeros([EEG_channels_count + ECG_channels_count, T_timestamps])\n",
    "for i in range(EEG_channels_count):\n",
    "    recordings_matrix[i,:] = eeg_recordings_matrix[i,:]\n",
    "for i in range(ECG_channels_count):\n",
    "    recordings_matrix[EEG_channels_count+i,:] = ecg_recordings_matrix[i,:]\n",
    "# - map\n",
    "channel_map = np.zeros([EEG_channels_count + ECG_channels_count, 1])\n",
    "for i in range(EEG_channels_count):\n",
    "    channel_map[i] = 0\n",
    "\n",
    "for i in range(ECG_channels_count):\n",
    "    channel_map[EEG_channels_count + i] = 1"
   ]
  },
  {
   "cell_type": "code",
   "execution_count": 8,
   "metadata": {
    "collapsed": false
   },
   "outputs": [
    {
     "name": "stdout",
     "output_type": "stream",
     "text": [
      "-I- Number of channels found is 21 with 8000 timestamps\n"
     ]
    },
    {
     "name": "stderr",
     "output_type": "stream",
     "text": [
      "C:\\Users\\HaneenSader\\Anaconda2\\lib\\site-packages\\sklearn\\decomposition\\fastica_.py:116: UserWarning: FastICA did not converge. Consider increasing tolerance or the maximum number of iterations.\n",
      "  warnings.warn('FastICA did not converge. Consider increasing '\n"
     ]
    },
    {
     "name": "stdout",
     "output_type": "stream",
     "text": [
      "-T- It took 4729 ms to calculate ICA components\n",
      "-T- It took 15 ms to calculate CORRELATION of noise with all eeg channels\n",
      "-I- Noise component 1 of channel 20 is highly correlated with 2 with [ 0.31524361]\n"
     ]
    },
    {
     "data": {
      "image/png": "[encoded data removed]",
      "text/plain": [
       "<matplotlib.figure.Figure at 0xb843358>"
      ]
     },
     "metadata": {},
     "output_type": "display_data"
    },
    {
     "name": "stdout",
     "output_type": "stream",
     "text": [
      "(20L, 8000L)\n",
      "(8000L, 20L)\n",
      "[u'EEG 017', u'EEG 025', u'EEG 036', u'EEG 043', u'EEG 035', u'EEG 024', u'EEG 060', u'EEG 058', u'EEG 048', u'EEG 030', u'EEG 012', u'EEG 002', u'EEG 009', u'EEG 015', u'EEG 033', u'EEG 027', u'EEG 044', u'EEG 052', u'EEG 046', u'EEG 050']\n",
      "600.614990234\n",
      "['eeg', 'eeg', 'eeg', 'eeg', 'eeg', 'eeg', 'eeg', 'eeg', 'eeg', 'eeg', 'eeg', 'eeg', 'eeg', 'eeg', 'eeg', 'eeg', 'eeg', 'eeg', 'eeg', 'eeg']\n",
      "Creating RawArray with float64 data, n_channels=20, n_times=8000\n",
      "    Range : 0 ... 7999 =      0.000 ...    13.318 secs\n",
      "Ready.\n"
     ]
    }
   ],
   "source": [
    "raw_eeg_cleaned = clean_eeg(recordings_matrix, channel_map, raw_eeg)"
   ]
  },
  {
   "cell_type": "code",
   "execution_count": 10,
   "metadata": {
    "collapsed": false
   },
   "outputs": [
    {
     "name": "stdout",
     "output_type": "stream",
     "text": [
      "Band-pass filtering from 4 - 7 Hz\n",
      "filter_length (8192) is longer than the signal (8000), distortion is likely. Reduce filter length or filter a longer signal.\n",
      "Multiple deprecated filter parameters were used:\n",
      "phase in 0.13 is \"zero-double\" but will change to \"zero\" in 0.14\n",
      "fir_window in 0.13 is \"hann\" but will change to \"hamming\" in 0.14\n",
      "lower transition bandwidth in 0.13 is 0.5 Hz but will change to \"auto\" in 0.14\n",
      "upper transition bandwidth in 0.13 is 0.5 Hz but will change to \"auto\" in 0.14\n",
      "The default filter length in 0.13 is \"10s\" but will change to \"auto\" in 0.14\n"
     ]
    },
    {
     "name": "stderr",
     "output_type": "stream",
     "text": [
      "<ipython-input-10-3e61f84c9be0>:3: RuntimeWarning: filter_length (8192) is longer than the signal (8000), distortion is likely. Reduce filter length or filter a longer signal.\n",
      "  raw_theta = raw_eeg.filter(l_freq=4, h_freq=7)\n",
      "<ipython-input-10-3e61f84c9be0>:3: DeprecationWarning: Multiple deprecated filter parameters were used:\n",
      "phase in 0.13 is \"zero-double\" but will change to \"zero\" in 0.14\n",
      "fir_window in 0.13 is \"hann\" but will change to \"hamming\" in 0.14\n",
      "lower transition bandwidth in 0.13 is 0.5 Hz but will change to \"auto\" in 0.14\n",
      "upper transition bandwidth in 0.13 is 0.5 Hz but will change to \"auto\" in 0.14\n",
      "The default filter length in 0.13 is \"10s\" but will change to \"auto\" in 0.14\n",
      "  raw_theta = raw_eeg.filter(l_freq=4, h_freq=7)\n"
     ]
    },
    {
     "name": "stdout",
     "output_type": "stream",
     "text": [
      "Band-pass filtering from 8 - 15 Hz\n",
      "filter_length (8192) is longer than the signal (8000), distortion is likely. Reduce filter length or filter a longer signal.\n",
      "Multiple deprecated filter parameters were used:\n",
      "phase in 0.13 is \"zero-double\" but will change to \"zero\" in 0.14\n",
      "fir_window in 0.13 is \"hann\" but will change to \"hamming\" in 0.14\n",
      "lower transition bandwidth in 0.13 is 0.5 Hz but will change to \"auto\" in 0.14\n",
      "upper transition bandwidth in 0.13 is 0.5 Hz but will change to \"auto\" in 0.14\n",
      "The default filter length in 0.13 is \"10s\" but will change to \"auto\" in 0.14\n"
     ]
    },
    {
     "name": "stderr",
     "output_type": "stream",
     "text": [
      "<ipython-input-10-3e61f84c9be0>:6: RuntimeWarning: filter_length (8192) is longer than the signal (8000), distortion is likely. Reduce filter length or filter a longer signal.\n",
      "  raw_alpha = raw_eeg.filter(l_freq=8, h_freq=15)\n",
      "<ipython-input-10-3e61f84c9be0>:6: DeprecationWarning: Multiple deprecated filter parameters were used:\n",
      "phase in 0.13 is \"zero-double\" but will change to \"zero\" in 0.14\n",
      "fir_window in 0.13 is \"hann\" but will change to \"hamming\" in 0.14\n",
      "lower transition bandwidth in 0.13 is 0.5 Hz but will change to \"auto\" in 0.14\n",
      "upper transition bandwidth in 0.13 is 0.5 Hz but will change to \"auto\" in 0.14\n",
      "The default filter length in 0.13 is \"10s\" but will change to \"auto\" in 0.14\n",
      "  raw_alpha = raw_eeg.filter(l_freq=8, h_freq=15)\n"
     ]
    },
    {
     "name": "stdout",
     "output_type": "stream",
     "text": [
      "Band-pass filtering from 16 - 31 Hz\n",
      "filter_length (8192) is longer than the signal (8000), distortion is likely. Reduce filter length or filter a longer signal.\n",
      "Multiple deprecated filter parameters were used:\n",
      "phase in 0.13 is \"zero-double\" but will change to \"zero\" in 0.14\n",
      "fir_window in 0.13 is \"hann\" but will change to \"hamming\" in 0.14\n",
      "lower transition bandwidth in 0.13 is 0.5 Hz but will change to \"auto\" in 0.14\n",
      "upper transition bandwidth in 0.13 is 0.5 Hz but will change to \"auto\" in 0.14\n",
      "The default filter length in 0.13 is \"10s\" but will change to \"auto\" in 0.14\n"
     ]
    },
    {
     "name": "stderr",
     "output_type": "stream",
     "text": [
      "<ipython-input-10-3e61f84c9be0>:9: RuntimeWarning: filter_length (8192) is longer than the signal (8000), distortion is likely. Reduce filter length or filter a longer signal.\n",
      "  raw_beta = raw_eeg.filter(l_freq=16, h_freq=31)\n",
      "<ipython-input-10-3e61f84c9be0>:9: DeprecationWarning: Multiple deprecated filter parameters were used:\n",
      "phase in 0.13 is \"zero-double\" but will change to \"zero\" in 0.14\n",
      "fir_window in 0.13 is \"hann\" but will change to \"hamming\" in 0.14\n",
      "lower transition bandwidth in 0.13 is 0.5 Hz but will change to \"auto\" in 0.14\n",
      "upper transition bandwidth in 0.13 is 0.5 Hz but will change to \"auto\" in 0.14\n",
      "The default filter length in 0.13 is \"10s\" but will change to \"auto\" in 0.14\n",
      "  raw_beta = raw_eeg.filter(l_freq=16, h_freq=31)\n"
     ]
    }
   ],
   "source": [
    "raw_brainwaves = dict()\n",
    "\n",
    "raw_theta = raw_eeg.filter(l_freq=4, h_freq=7)\n",
    "raw_brainwaves['theta'] = raw_theta\n",
    "\n",
    "raw_alpha = raw_eeg.filter(l_freq=8, h_freq=15)\n",
    "raw_brainwaves['alpha'] = raw_alpha\n",
    "\n",
    "raw_beta = raw_eeg.filter(l_freq=16, h_freq=31)\n",
    "raw_brainwaves['beta'] = raw_beta"
   ]
  },
  {
   "cell_type": "code",
   "execution_count": null,
   "metadata": {
    "collapsed": true
   },
   "outputs": [],
   "source": []
  }
 ],
 "metadata": {
  "kernelspec": {
   "display_name": "Python 2",
   "language": "python",
   "name": "python2"
  },
  "language_info": {
   "codemirror_mode": {
    "name": "ipython",
    "version": 2
   },
   "file_extension": ".py",
   "mimetype": "text/x-python",
   "name": "python",
   "nbconvert_exporter": "python",
   "pygments_lexer": "ipython2",
   "version": "2.7.13"
  }
 },
 "nbformat": 4,
 "nbformat_minor": 2
}
